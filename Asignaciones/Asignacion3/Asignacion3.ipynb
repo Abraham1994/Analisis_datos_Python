{
 "cells": [
  {
   "cell_type": "markdown",
   "metadata": {
    "deletable": true,
    "editable": true
   },
   "source": [
    "# Asignación 3"
   ]
  },
  {
   "cell_type": "markdown",
   "metadata": {
    "deletable": true,
    "editable": true
   },
   "source": [
    "1 .Descarga el conjunto de datos de educación superior de los Estados Unidos de [www.data.gov/education](https://www.data.gov/education/ ) como un archivo `CSV`. Escribe un programa que reporte a  diez instituciones de educación superior (`HEIs`) que son las más cercanas geográficamente a un punto definido por la latitud media y la longitud media de todas las `HEIs` en el conjunto de datos. Calcular las distancias en grados. Usa `numpy` para el almacenamiento y procesamiento de datos tanto como sea posible. Recuerda que la primera fila del archivo CSV contiene columnas de encabezados y que algunos campos o registros enteros del archivo pueden ser inválidos."
   ]
  },
  {
   "cell_type": "code",
   "execution_count": 1,
   "metadata": {
    "collapsed": true,
    "deletable": true,
    "editable": true
   },
   "outputs": [],
   "source": [
    "# Tu codigo"
   ]
  },
  {
   "cell_type": "markdown",
   "metadata": {
    "deletable": true,
    "editable": true
   },
   "source": [
    "2 .Wikipedia tiene muchos datos sobre diversos aspectos demográficos, incluyendo la \n",
    "[Lista de paises por consumo de alcohol per capita](https://en.wikipedia.org/wiki/List_of_countries_by_alcohol_consumption_per_capita) y la [Lista de paises por  GDP (PPP) per capita](https://en.wikipedia.org/wiki/List_of_countries_by_GDP_per_capita). \n",
    "\n",
    "Escribe un programa que utilice estos datos y realize tabulación cruzada entre el nivel del GDP (por  encima del promedio vs. por debajo del promedio) vs. nivel de consumo de alcohol (por encima del promedio vs. por debajo del promedio). En base a la tabla realizada, ¿las dos medidas están correlacionadas?."
   ]
  },
  {
   "cell_type": "code",
   "execution_count": 2,
   "metadata": {
    "collapsed": true,
    "deletable": true,
    "editable": true
   },
   "outputs": [],
   "source": [
    "# Tu codigo"
   ]
  },
  {
   "cell_type": "markdown",
   "metadata": {
    "deletable": true,
    "editable": true
   },
   "source": [
    "3 .Combina los datos históricos del consumo de alcohol, con los datos meteorológicos históricos por estado. Utiliza la tabulación cruzada para estimar si los hábitos de consumo de alcohol posiblemente están correlacionados con las temperaturas locales promedio y las precipitaciones totales. En otras palabras, ¿la gente bebe más cuando llueve ?. El sitio web del [Centro Nacional de Datos Climáticos](https://www.ncdc.noaa.gov/cdo-web/)  es un buen punto de partida, para lss búsqueda de datos meteorológicos históricos."
   ]
  },
  {
   "cell_type": "code",
   "execution_count": 3,
   "metadata": {
    "collapsed": true,
    "deletable": true,
    "editable": true
   },
   "outputs": [],
   "source": [
    "# Tu codigo"
   ]
  },
  {
   "cell_type": "markdown",
   "metadata": {
    "deletable": true,
    "editable": true
   },
   "source": [
    "4 .Escriba un programa que reporte algunas medidas estadísticas básicas de los valores de cierre del índice `S&P500`: la media, la desviación estándar, la asimetría y la correlación entre los valores de cierre y el volumen de comercio en el siglo XXI. ¿Es fiable la correlación?. Puedes descargar los precios históricos desde  [Yahoo! Finanzas](https://finance.yahoo.com/quote/%5EGSPC/history?ltr=1). Recuerda que el siglo XXI comenzó el 1 de enero de 2001."
   ]
  },
  {
   "cell_type": "code",
   "execution_count": 4,
   "metadata": {
    "collapsed": true,
    "deletable": true,
    "editable": true
   },
   "outputs": [],
   "source": [
    "# Tu codigo"
   ]
  },
  {
   "cell_type": "markdown",
   "metadata": {
    "deletable": true,
    "editable": true
   },
   "source": [
    "5 . Desarrolla  un programa que predice si una ciudad tiene un sistema de metro. Su programa puede necesitar considerar la población, la densidad de población, el tamaño del presupuesto, las condiciones climáticas, los niveles del impuesto sobre la renta y otras variables. Algunos de ellos pueden estar fácilmente disponibles en línea, otros no. Utiliza la regresión logística y un  bosque de decisión aleatorio y escoge  el método que mejor se acomode."
   ]
  },
  {
   "cell_type": "code",
   "execution_count": 5,
   "metadata": {
    "collapsed": true,
    "deletable": true,
    "editable": true
   },
   "outputs": [],
   "source": [
    "# Tu codigo"
   ]
  },
  {
   "cell_type": "markdown",
   "metadata": {
    "deletable": true,
    "editable": true
   },
   "source": [
    "6 .Escribe un programa que agrupa enormes sitios de redes sociales en línea por el número de usuarios registrados y la [clasificación de página global de Alexa](https://en.wikipedia.org/wiki/List_of_social_networking_websites). Debido a que los rangos y los tamaños del sitio varían en un amplio rango, utiliza la escala logarítmica tanto para la agrupación como para la presentación."
   ]
  },
  {
   "cell_type": "code",
   "execution_count": 6,
   "metadata": {
    "collapsed": true,
    "deletable": true,
    "editable": true
   },
   "outputs": [],
   "source": [
    "# Tu codigo"
   ]
  },
  {
   "cell_type": "markdown",
   "metadata": {
    "deletable": true,
    "editable": true
   },
   "source": [
    "Una base de datos NoSQL es una colección no volátil de objetos, a menudo conocidos como documentos, con atributos. Se han desarrollado muchas implementaciones diferentes de como almacenar  documentos.  Uno de los más importantes es [MongoDB](https://www.mongodb.com/) que es una base de datos no relacional.\n",
    "\n",
    "Un servidor MongoDB puede soportar varias bases de datos no relacionadas. Una base de datos consiste en una o más colecciones de documentos. Todos los documentos de una colección tienen identificadores únicos. \n",
    " \n",
    "Un cliente de Python para  MongoDB se implementa en el módulo `pymongo` como una instancia de la clase `MongoClient`. Se puede crear un cliente sin parámetros (funciona para una instalación de servidor local típica), con el nombre del host y el número de puerto del servidor como parámetros o con el URI (Uniform Resource Identifier) del servidor como parámetro:"
   ]
  },
  {
   "cell_type": "markdown",
   "metadata": {
    "deletable": true,
    "editable": true
   },
   "source": [
    "7 .Ejecuta las siguientes lineas:\n",
    "\n",
    "```\n",
    "import pymongo as mongo\n",
    "cliente1 = mongo.MongoClient()\n",
    "cliente2 = mongo.MongoClient(\"localhost\", 27017)\n",
    "cliente3 = mongo.MongoClient(\"mongodb://localhost:27017/\")\n",
    "```"
   ]
  },
  {
   "cell_type": "markdown",
   "metadata": {
    "deletable": true,
    "editable": true
   },
   "source": [
    "8 . Explica las siguientes lineas\n",
    "\n",
    "```\n",
    "db = cliente1.dsdb\n",
    "db = cliente1[\"dsdb\"]\n",
    "persona = db.persona\n",
    "persona = db[\"persona\"]\n",
    "\n",
    "persona1 = {\"empname\" : \"Scikit Learn\", \"dob\" : \"1957-12-24\"}\n",
    "persona2 = {\"_id\" : \"XVT162\", \"empname\" : \"Numpy\", \"dob\" : \"1964-05-16\"}\n",
    "persona_id1 = persona.insert_one(persona1).inserted_id\n",
    "\n",
    "persona1\n",
    "persona_id2 = personainsert_one(person1).inserted_id\n",
    "\n",
    "personas = [{\"empname\" : \"Scipy\", \"dob\" : \"1809-02-12\"},\n",
    "{\"empname\" : \"MongoDb\"}]\n",
    "resultados = persona.insert_many(persons)\n",
    "resultados.inserted_ids\n",
    "\n",
    "todos = persona.find()\n",
    "list(todos)\n",
    "\n",
    "list(persona.find({\"dob\" : \"1957-12-24\"}))\n",
    "persona.find_one()\n",
    "\n",
    "persona.find_one({\"empname\" : \"Scipy\"})\n",
    "persona.find_one({\"_id\" : \"XVT162\"})\n",
    "\n",
    "persona.count()\n",
    "\n",
    "persona.find({\"dob\": \"1957-12-24\"}).count()\n",
    "persona.find().sort(\"dob\")\n",
    "\n",
    "resultados = persona.delete_many({\"dob\" : \"1957-12-24\"})\n",
    "resultados.deleted_count\n",
    "```"
   ]
  },
  {
   "cell_type": "code",
   "execution_count": null,
   "metadata": {
    "collapsed": true,
    "deletable": true,
    "editable": true
   },
   "outputs": [],
   "source": []
  }
 ],
 "metadata": {
  "kernelspec": {
   "display_name": "Python 3",
   "language": "python",
   "name": "python3"
  },
  "language_info": {
   "codemirror_mode": {
    "name": "ipython",
    "version": 3
   },
   "file_extension": ".py",
   "mimetype": "text/x-python",
   "name": "python",
   "nbconvert_exporter": "python",
   "pygments_lexer": "ipython3",
   "version": "3.5.2"
  }
 },
 "nbformat": 4,
 "nbformat_minor": 1
}
