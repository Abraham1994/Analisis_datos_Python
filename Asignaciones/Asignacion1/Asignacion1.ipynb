{
 "cells": [
  {
   "cell_type": "markdown",
   "metadata": {},
   "source": [
    "# Asignación 1\n",
    "\n",
    "Todos los asignaciones serán presentadas utilizando los cuadernos de [Jupyter Notebook](http://jupyter.org/), además de respectivas pruebas como ejemplo, así como el uso de mediciones de velocidad de ejecución utilizando  el comando `timeit` y algunos gráficos si fuese necesario."
   ]
  },
  {
   "cell_type": "markdown",
   "metadata": {},
   "source": [
    "##  Lista de ejercicios"
   ]
  },
  {
   "cell_type": "markdown",
   "metadata": {},
   "source": [
    "1 . Escriba un programa que genere *\"Hola, mundo!\"*  (si las comillas) en la línea de comandos de Python."
   ]
  },
  {
   "cell_type": "code",
   "execution_count": 1,
   "metadata": {
    "collapsed": false
   },
   "outputs": [],
   "source": [
    "# Tu codigo\n",
    "\n"
   ]
  },
  {
   "cell_type": "markdown",
   "metadata": {},
   "source": [
    "2 . [El archivo1](https://github.com/CC-001/Asignacion1/blob/master/archivo1.py), presenta código fuente Python acerca de diversos aspectos útiles para análisis de datos. Presenta un reporte de cada una de las lineas presentadas, con ejemplos de las funciones que componen cada módulo. Tu reporte debe presentar, explicación acerca de los siguientes ítems:\n",
    "\n",
    "* Funciones de cadena básicas.\n",
    "* Estructura de datos de python: Lista y diccionarios, conjuntos. Tu reporte de tener información de cosas, como que `sets` puede almacenar por ejemplo una copia de un ítem y tiene un tiempo de búsqueda sublineal de `O(log(N))`.\n",
    "* Lista de comprensión.\n",
    "* Modulo `collections` y el constructor `Counter`.\n",
    "* Módulo `pickle`.\n",
    "* Búsqueda en la web con `ùrllib` para python 3."
   ]
  },
  {
   "cell_type": "code",
   "execution_count": 2,
   "metadata": {
    "collapsed": true
   },
   "outputs": [],
   "source": [
    "# Tu reporte y código"
   ]
  },
  {
   "cell_type": "markdown",
   "metadata": {},
   "source": [
    "3 . El siguiente ejercicio ([archivo2](https://github.com/CC-001/Asignacion1/blob/master/archivo2.py)) es acerca de expresiones regulares. Explica y implementa los métodos de los módulos `re` y `glob`, descritos en el archivo, así como ejemplos de expresiones regulares. Presenta un archivo con código python, así como un reporte de:\n",
    "\n",
    "* Módulo `re` y `glob`."
   ]
  },
  {
   "cell_type": "code",
   "execution_count": 3,
   "metadata": {
    "collapsed": true
   },
   "outputs": [],
   "source": [
    "# Tu respuesta"
   ]
  },
  {
   "cell_type": "markdown",
   "metadata": {},
   "source": [
    "4 . A lo largo del curso aprenderemos cómo extraer datos de archivos de discos locales e internet y almacenarlos en estructuras de datos apropiadas, extraer código que coincidan con ciertos patrones y almacenarlo  para procesamientos futuros. No hay nada infinito en Ciencia de la computación, pero hay un número infinito de escenarios que requieren extracción de datos, variando en tipo, propósito y complejidad. Éstos son sólo algunos de ellos:"
   ]
  },
  {
   "cell_type": "markdown",
   "metadata": {},
   "source": [
    "#### Contador de frecuencia de palabras \n",
    "\n",
    "Escribe un programa que descargue una página web solicitada por el usuario y reporte  hasta las diez palabras más usadas. El programa debe tratar todas las palabras como mayúsculas y minúsculas sin ninguna diferencia. Para el propósito de este ejercicio, suponga que una palabra es descrita por la expresión regular `r\"\\w+\"`."
   ]
  },
  {
   "cell_type": "code",
   "execution_count": 4,
   "metadata": {
    "collapsed": true
   },
   "outputs": [],
   "source": [
    "# Tu codigo"
   ]
  },
  {
   "cell_type": "markdown",
   "metadata": {},
   "source": [
    "#### Indexador de archivos \n",
    "\n",
    "Escriba un programa que indexe todos los archivos en un determinado directorio (carpeta) designado por el usuario. El programa debe construir un diccionario en el que las claves sean palabras únicas en todos los archivos y el valor de cada entrada es una lista de nombre de  archivos  que contienen la palabra. Por ejemplo, si la palabra `aloha` se menciona en los archivos `early-internet.dat` y `hawaiian-travel.txt`, el diccionario tendrá una entrada `{..., 'aloha': ['early-internet .dat ',' hawaiian-travel.txt '], ...}`.\n",
    "\n",
    "\n",
    "El programa almacenará  el diccionario para un uso futuro."
   ]
  },
  {
   "cell_type": "code",
   "execution_count": 5,
   "metadata": {
    "collapsed": true
   },
   "outputs": [],
   "source": [
    "# Tu codigo"
   ]
  },
  {
   "cell_type": "markdown",
   "metadata": {},
   "source": [
    "#### Extractor de números teléfonicos\n",
    "\n",
    "Escribe un programa que extrae todos los números teléfonicos de un archivo de texto dado. Esto no es una tarea fácil, ya que hay varias docenas de convenciones nacionales para escribir números teléfonicos (ver [https://en.wikipedia.org/wiki/National_conventions_for_writing_telephone_numbers](en.wikipedia.org/ / National_conventions_for_writing_telephone_numbers)). ¿Puedes diseñar una expresión regular que contenga  a todos los números telefónicos?."
   ]
  },
  {
   "cell_type": "code",
   "execution_count": 6,
   "metadata": {
    "collapsed": true
   },
   "outputs": [],
   "source": [
    "# Tu código"
   ]
  },
  {
   "cell_type": "markdown",
   "metadata": {},
   "source": [
    "3 . Numpy es un excelente conjunto de herramientas cuando se trata de números. Numpy muy amable, trata a los vectores y  matrices como ciudadanos de primera clase; les proporciona operaciones aritméticas, lógicas y operaciones vectorizadas; y  proporciona un medio para la remodelación de datos, ordenación y agregación, incluso suministra una criatura  llamada `nan`, que es un número que no es un número."
   ]
  },
  {
   "cell_type": "markdown",
   "metadata": {},
   "source": [
    "#### Diferenciador de matrices(array)\n",
    "\n",
    "Las sumas parciales son un equivalente aproximado de una integral. En efecto, el cálculo define una integral como una suma infinita de elementos infinitesimales. Las *diferencias de matrices parciales*  $arr_{i + 1}-arr_i$ son un equivalente aproximado de la derivada. Numpy no proporciona una herramienta para calcular las diferencias de matrices parciales. Escriba un programa que, dado una matriz `arr`, calcula las diferencias parciales de los elementos de la matriz (array). Asume que la matriz es numérica.\n",
    "\n",
    "Sugerencia: Escoge algun tipo de conjunto de datos y escribe que `diff = array[1:] - array[:-1]`. "
   ]
  },
  {
   "cell_type": "code",
   "execution_count": 7,
   "metadata": {
    "collapsed": true
   },
   "outputs": [],
   "source": [
    "# Tu codigo\n",
    "\n"
   ]
  },
  {
   "cell_type": "markdown",
   "metadata": {},
   "source": [
    "4 . En este ejercicio se pide algunas implementaciones de Numpy:"
   ]
  },
  {
   "cell_type": "code",
   "execution_count": 8,
   "metadata": {
    "collapsed": false
   },
   "outputs": [
    {
     "name": "stdout",
     "output_type": "stream",
     "text": [
      "Hace una matriz  3x 4 de numeros aleatorios\n",
      "[[ 0.79641412  0.42560887  0.95286585  0.57429055]\n",
      " [ 0.95472136  0.78135265  0.59359939  0.24449156]\n",
      " [ 0.17175467  0.25954079  0.45124478  0.24202577]]\n",
      "Agrega  1 a cada elemento\n",
      "[[ 1.79641412  1.42560887  1.95286585  1.57429055]\n",
      " [ 1.95472136  1.78135265  1.59359939  1.24449156]\n",
      " [ 1.17175467  1.25954079  1.45124478  1.24202577]]\n",
      "Conseguimos el elemento de la fila 1  column 2\n",
      "1.59359938712\n",
      "Obtenemos la primera fila\n",
      "[ 1.79641412  1.42560887  1.95286585  1.57429055]\n",
      "Segunda columna de la primera fila\n",
      "[ 1.79641412  1.95286585]\n"
     ]
    }
   ],
   "source": [
    "import numpy as np\n",
    "\n",
    "print (\"Hace una matriz  3x 4 de numeros aleatorios\")\n",
    "x = np.random.rand(3, 4)\n",
    "print (x)\n",
    "\n",
    "print (\"Agrega  1 a cada elemento\")\n",
    "x = x + 1\n",
    "print (x)\n",
    "\n",
    "print (\"Conseguimos el elemento de la fila 1  column 2\")\n",
    "print (x[1, 2])\n",
    " \n",
    "print (\"Obtenemos la primera fila\")\n",
    "print (x[0, :])\n",
    "print\n",
    "\n",
    "print (\"Segunda columna de la primera fila\")\n",
    "print (x[0, ::2])"
   ]
  },
  {
   "cell_type": "markdown",
   "metadata": {},
   "source": [
    "Imprime el máximo, el mínimo y la media de la matriz. Además escribe `x.m <TAB>`, para encontrar las operaciones integradas comunes de estadística para la matriz. Presenta ejemplos: "
   ]
  },
  {
   "cell_type": "code",
   "execution_count": 9,
   "metadata": {
    "collapsed": true
   },
   "outputs": [],
   "source": [
    "# Tu codigo"
   ]
  },
  {
   "cell_type": "markdown",
   "metadata": {},
   "source": [
    "Llama a la función `x.max`  pero utilice la palabra clave `axis` para imprimir el máximo de cada fila en `x`."
   ]
  },
  {
   "cell_type": "code",
   "execution_count": 10,
   "metadata": {
    "collapsed": true
   },
   "outputs": [],
   "source": [
    "# Tu codigo"
   ]
  },
  {
   "cell_type": "markdown",
   "metadata": {},
   "source": [
    "He aquí una manera de simular rápidamente `500` lanzamientos de monedas (donde la probabilidad de obtener caras es del `50%` o  `0,5`)."
   ]
  },
  {
   "cell_type": "code",
   "execution_count": 11,
   "metadata": {
    "collapsed": false
   },
   "outputs": [
    {
     "name": "stdout",
     "output_type": "stream",
     "text": [
      "numero de caras : 254\n"
     ]
    }
   ],
   "source": [
    "x = np.random.binomial(500, .5)\n",
    "print (\"numero de caras :\", x)"
   ]
  },
  {
   "cell_type": "markdown",
   "metadata": {},
   "source": [
    "Repita esta simulación `500` veces y use la función `plt.hist()` para trazar un histograma del número de caras en cada simulación."
   ]
  },
  {
   "cell_type": "code",
   "execution_count": 12,
   "metadata": {
    "collapsed": true
   },
   "outputs": [],
   "source": [
    "# La respuesta es..."
   ]
  },
  {
   "cell_type": "markdown",
   "metadata": {},
   "source": [
    "5 . Explica el  siguiente código, línea por línea:"
   ]
  },
  {
   "cell_type": "code",
   "execution_count": 13,
   "metadata": {
    "collapsed": false
   },
   "outputs": [
    {
     "name": "stdout",
     "output_type": "stream",
     "text": [
      "Python\n",
      "R\n"
     ]
    }
   ],
   "source": [
    "seq = ['Python', 'R']\n",
    "iterador = iter(seq)\n",
    "while True:\n",
    "    try:\n",
    "        x = iterador.__next__()\n",
    "        print(x)\n",
    "    except StopIteration as e:\n",
    "        break\n"
   ]
  },
  {
   "cell_type": "markdown",
   "metadata": {},
   "source": [
    "6 . El pseudocódigo de iteración se implementa realmente en cPython generando código de byte cuando se encuentra un bucle `for`. Aquí hay un ejemplo de bytecode de iteración real, usando el módulo `dis` de la biblioteca estándar de Python. El módulo `dis` desmonta el código en código de byte. Explica las siguiente lineas:"
   ]
  },
  {
   "cell_type": "code",
   "execution_count": 14,
   "metadata": {
    "collapsed": true
   },
   "outputs": [],
   "source": [
    "def bucle(seq):\n",
    "    for x in seq:\n",
    "        print (x)"
   ]
  },
  {
   "cell_type": "code",
   "execution_count": 15,
   "metadata": {
    "collapsed": false
   },
   "outputs": [
    {
     "name": "stdout",
     "output_type": "stream",
     "text": [
      "  2           0 SETUP_LOOP              24 (to 27)\n",
      "              3 LOAD_FAST                0 (seq)\n",
      "              6 GET_ITER\n",
      "        >>    7 FOR_ITER                16 (to 26)\n",
      "             10 STORE_FAST               1 (x)\n",
      "\n",
      "  3          13 LOAD_GLOBAL              0 (print)\n",
      "             16 LOAD_FAST                1 (x)\n",
      "             19 CALL_FUNCTION            1 (1 positional, 0 keyword pair)\n",
      "             22 POP_TOP\n",
      "             23 JUMP_ABSOLUTE            7\n",
      "        >>   26 POP_BLOCK\n",
      "        >>   27 LOAD_CONST               0 (None)\n",
      "             30 RETURN_VALUE\n"
     ]
    }
   ],
   "source": [
    "import dis\n",
    "dis.dis(bucle)"
   ]
  },
  {
   "cell_type": "markdown",
   "metadata": {
    "collapsed": true
   },
   "source": [
    "7 . En que consiste el protocolo interador (The Iterator Protocol) de Python."
   ]
  },
  {
   "cell_type": "code",
   "execution_count": 16,
   "metadata": {
    "collapsed": true
   },
   "outputs": [],
   "source": [
    "# Tu respuesta"
   ]
  },
  {
   "cell_type": "code",
   "execution_count": null,
   "metadata": {
    "collapsed": true
   },
   "outputs": [],
   "source": []
  }
 ],
 "metadata": {
  "kernelspec": {
   "display_name": "Python [default]",
   "language": "python",
   "name": "python3"
  },
  "language_info": {
   "codemirror_mode": {
    "name": "ipython",
    "version": 3
   },
   "file_extension": ".py",
   "mimetype": "text/x-python",
   "name": "python",
   "nbconvert_exporter": "python",
   "pygments_lexer": "ipython3",
   "version": "3.5.2"
  }
 },
 "nbformat": 4,
 "nbformat_minor": 1
}
